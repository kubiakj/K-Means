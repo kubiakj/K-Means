{
  "nbformat": 4,
  "nbformat_minor": 0,
  "metadata": {
    "colab": {
      "name": "kmeans_project.ipynb",
      "provenance": [],
      "mount_file_id": "1tEz-tXlSamsSKCBnOw68HdTakN51j_4t",
      "authorship_tag": "ABX9TyMMm+cWt8oMSi/Ni8xMEtTe"
    },
    "kernelspec": {
      "name": "python3",
      "display_name": "Python 3"
    },
    "language_info": {
      "name": "python"
    }
  },
  "cells": [
    {
      "cell_type": "code",
      "execution_count": 1,
      "metadata": {
        "id": "zTWU-ZKGuU37"
      },
      "outputs": [],
      "source": [
        "import pandas as pd \n",
        "import numpy as np\n",
        "import seaborn as sns\n",
        "import matplotlib.pyplot as plt\n",
        "%matplotlib inline"
      ]
    },
    {
      "cell_type": "code",
      "source": [
        "df = pd.read_csv('/content/drive/MyDrive/employee-compensation.csv')"
      ],
      "metadata": {
        "id": "oQcJgWN0ufZb"
      },
      "execution_count": 2,
      "outputs": []
    },
    {
      "cell_type": "code",
      "source": [
        "df.head()"
      ],
      "metadata": {
        "colab": {
          "base_uri": "https://localhost:8080/",
          "height": 595
        },
        "id": "MaY6AQ6uxEoi",
        "outputId": "67f87686-1e95-40da-f52c-95d0b580a475"
      },
      "execution_count": 3,
      "outputs": [
        {
          "output_type": "execute_result",
          "data": {
            "text/html": [
              "\n",
              "  <div id=\"df-29e6637e-c2de-49db-a434-28bc4dc75b3b\">\n",
              "    <div class=\"colab-df-container\">\n",
              "      <div>\n",
              "<style scoped>\n",
              "    .dataframe tbody tr th:only-of-type {\n",
              "        vertical-align: middle;\n",
              "    }\n",
              "\n",
              "    .dataframe tbody tr th {\n",
              "        vertical-align: top;\n",
              "    }\n",
              "\n",
              "    .dataframe thead th {\n",
              "        text-align: right;\n",
              "    }\n",
              "</style>\n",
              "<table border=\"1\" class=\"dataframe\">\n",
              "  <thead>\n",
              "    <tr style=\"text-align: right;\">\n",
              "      <th></th>\n",
              "      <th>Organization Group Code</th>\n",
              "      <th>Job Family Code</th>\n",
              "      <th>Job Code</th>\n",
              "      <th>Year Type</th>\n",
              "      <th>Year</th>\n",
              "      <th>Organization Group</th>\n",
              "      <th>Department Code</th>\n",
              "      <th>Department</th>\n",
              "      <th>Union Code</th>\n",
              "      <th>Union</th>\n",
              "      <th>...</th>\n",
              "      <th>Employee Identifier</th>\n",
              "      <th>Salaries</th>\n",
              "      <th>Overtime</th>\n",
              "      <th>Other Salaries</th>\n",
              "      <th>Total Salary</th>\n",
              "      <th>Retirement</th>\n",
              "      <th>Health and Dental</th>\n",
              "      <th>Other Benefits</th>\n",
              "      <th>Total Benefits</th>\n",
              "      <th>Total Compensation</th>\n",
              "    </tr>\n",
              "  </thead>\n",
              "  <tbody>\n",
              "    <tr>\n",
              "      <th>0</th>\n",
              "      <td>1</td>\n",
              "      <td>1000</td>\n",
              "      <td>1021</td>\n",
              "      <td>Calendar</td>\n",
              "      <td>2013</td>\n",
              "      <td>Public Protection</td>\n",
              "      <td>ADP</td>\n",
              "      <td>ADP Adult Probation</td>\n",
              "      <td>21.0</td>\n",
              "      <td>Prof &amp; Tech Engineers - Miscellaneous, Local 21</td>\n",
              "      <td>...</td>\n",
              "      <td>37730</td>\n",
              "      <td>57534.65</td>\n",
              "      <td>0.0</td>\n",
              "      <td>0.00</td>\n",
              "      <td>57534.65</td>\n",
              "      <td>11253.16</td>\n",
              "      <td>11961.34</td>\n",
              "      <td>4532.63</td>\n",
              "      <td>27747.13</td>\n",
              "      <td>85281.78</td>\n",
              "    </tr>\n",
              "    <tr>\n",
              "      <th>1</th>\n",
              "      <td>1</td>\n",
              "      <td>1000</td>\n",
              "      <td>1023</td>\n",
              "      <td>Calendar</td>\n",
              "      <td>2013</td>\n",
              "      <td>Public Protection</td>\n",
              "      <td>ADP</td>\n",
              "      <td>ADP Adult Probation</td>\n",
              "      <td>21.0</td>\n",
              "      <td>Prof &amp; Tech Engineers - Miscellaneous, Local 21</td>\n",
              "      <td>...</td>\n",
              "      <td>26574</td>\n",
              "      <td>57678.50</td>\n",
              "      <td>0.0</td>\n",
              "      <td>0.00</td>\n",
              "      <td>57678.50</td>\n",
              "      <td>10284.88</td>\n",
              "      <td>7176.80</td>\n",
              "      <td>4755.14</td>\n",
              "      <td>22216.82</td>\n",
              "      <td>79895.32</td>\n",
              "    </tr>\n",
              "    <tr>\n",
              "      <th>2</th>\n",
              "      <td>1</td>\n",
              "      <td>1000</td>\n",
              "      <td>1031</td>\n",
              "      <td>Calendar</td>\n",
              "      <td>2013</td>\n",
              "      <td>Public Protection</td>\n",
              "      <td>ADP</td>\n",
              "      <td>ADP Adult Probation</td>\n",
              "      <td>21.0</td>\n",
              "      <td>Prof &amp; Tech Engineers - Miscellaneous, Local 21</td>\n",
              "      <td>...</td>\n",
              "      <td>8148</td>\n",
              "      <td>63532.93</td>\n",
              "      <td>0.0</td>\n",
              "      <td>0.00</td>\n",
              "      <td>63532.93</td>\n",
              "      <td>12495.83</td>\n",
              "      <td>12918.24</td>\n",
              "      <td>4702.71</td>\n",
              "      <td>30116.78</td>\n",
              "      <td>93649.71</td>\n",
              "    </tr>\n",
              "    <tr>\n",
              "      <th>3</th>\n",
              "      <td>1</td>\n",
              "      <td>1000</td>\n",
              "      <td>1054</td>\n",
              "      <td>Calendar</td>\n",
              "      <td>2013</td>\n",
              "      <td>Public Protection</td>\n",
              "      <td>ADP</td>\n",
              "      <td>ADP Adult Probation</td>\n",
              "      <td>21.0</td>\n",
              "      <td>Prof &amp; Tech Engineers - Miscellaneous, Local 21</td>\n",
              "      <td>...</td>\n",
              "      <td>27436</td>\n",
              "      <td>101274.51</td>\n",
              "      <td>0.0</td>\n",
              "      <td>-7058.59</td>\n",
              "      <td>94215.92</td>\n",
              "      <td>19644.45</td>\n",
              "      <td>12918.24</td>\n",
              "      <td>7458.76</td>\n",
              "      <td>40021.45</td>\n",
              "      <td>134237.37</td>\n",
              "    </tr>\n",
              "    <tr>\n",
              "      <th>4</th>\n",
              "      <td>1</td>\n",
              "      <td>1000</td>\n",
              "      <td>1062</td>\n",
              "      <td>Calendar</td>\n",
              "      <td>2013</td>\n",
              "      <td>Public Protection</td>\n",
              "      <td>ADP</td>\n",
              "      <td>ADP Adult Probation</td>\n",
              "      <td>21.0</td>\n",
              "      <td>Prof &amp; Tech Engineers - Miscellaneous, Local 21</td>\n",
              "      <td>...</td>\n",
              "      <td>37730</td>\n",
              "      <td>5084.00</td>\n",
              "      <td>0.0</td>\n",
              "      <td>0.00</td>\n",
              "      <td>5084.00</td>\n",
              "      <td>1083.90</td>\n",
              "      <td>956.91</td>\n",
              "      <td>387.50</td>\n",
              "      <td>2428.31</td>\n",
              "      <td>7512.31</td>\n",
              "    </tr>\n",
              "  </tbody>\n",
              "</table>\n",
              "<p>5 rows × 22 columns</p>\n",
              "</div>\n",
              "      <button class=\"colab-df-convert\" onclick=\"convertToInteractive('df-29e6637e-c2de-49db-a434-28bc4dc75b3b')\"\n",
              "              title=\"Convert this dataframe to an interactive table.\"\n",
              "              style=\"display:none;\">\n",
              "        \n",
              "  <svg xmlns=\"http://www.w3.org/2000/svg\" height=\"24px\"viewBox=\"0 0 24 24\"\n",
              "       width=\"24px\">\n",
              "    <path d=\"M0 0h24v24H0V0z\" fill=\"none\"/>\n",
              "    <path d=\"M18.56 5.44l.94 2.06.94-2.06 2.06-.94-2.06-.94-.94-2.06-.94 2.06-2.06.94zm-11 1L8.5 8.5l.94-2.06 2.06-.94-2.06-.94L8.5 2.5l-.94 2.06-2.06.94zm10 10l.94 2.06.94-2.06 2.06-.94-2.06-.94-.94-2.06-.94 2.06-2.06.94z\"/><path d=\"M17.41 7.96l-1.37-1.37c-.4-.4-.92-.59-1.43-.59-.52 0-1.04.2-1.43.59L10.3 9.45l-7.72 7.72c-.78.78-.78 2.05 0 2.83L4 21.41c.39.39.9.59 1.41.59.51 0 1.02-.2 1.41-.59l7.78-7.78 2.81-2.81c.8-.78.8-2.07 0-2.86zM5.41 20L4 18.59l7.72-7.72 1.47 1.35L5.41 20z\"/>\n",
              "  </svg>\n",
              "      </button>\n",
              "      \n",
              "  <style>\n",
              "    .colab-df-container {\n",
              "      display:flex;\n",
              "      flex-wrap:wrap;\n",
              "      gap: 12px;\n",
              "    }\n",
              "\n",
              "    .colab-df-convert {\n",
              "      background-color: #E8F0FE;\n",
              "      border: none;\n",
              "      border-radius: 50%;\n",
              "      cursor: pointer;\n",
              "      display: none;\n",
              "      fill: #1967D2;\n",
              "      height: 32px;\n",
              "      padding: 0 0 0 0;\n",
              "      width: 32px;\n",
              "    }\n",
              "\n",
              "    .colab-df-convert:hover {\n",
              "      background-color: #E2EBFA;\n",
              "      box-shadow: 0px 1px 2px rgba(60, 64, 67, 0.3), 0px 1px 3px 1px rgba(60, 64, 67, 0.15);\n",
              "      fill: #174EA6;\n",
              "    }\n",
              "\n",
              "    [theme=dark] .colab-df-convert {\n",
              "      background-color: #3B4455;\n",
              "      fill: #D2E3FC;\n",
              "    }\n",
              "\n",
              "    [theme=dark] .colab-df-convert:hover {\n",
              "      background-color: #434B5C;\n",
              "      box-shadow: 0px 1px 3px 1px rgba(0, 0, 0, 0.15);\n",
              "      filter: drop-shadow(0px 1px 2px rgba(0, 0, 0, 0.3));\n",
              "      fill: #FFFFFF;\n",
              "    }\n",
              "  </style>\n",
              "\n",
              "      <script>\n",
              "        const buttonEl =\n",
              "          document.querySelector('#df-29e6637e-c2de-49db-a434-28bc4dc75b3b button.colab-df-convert');\n",
              "        buttonEl.style.display =\n",
              "          google.colab.kernel.accessAllowed ? 'block' : 'none';\n",
              "\n",
              "        async function convertToInteractive(key) {\n",
              "          const element = document.querySelector('#df-29e6637e-c2de-49db-a434-28bc4dc75b3b');\n",
              "          const dataTable =\n",
              "            await google.colab.kernel.invokeFunction('convertToInteractive',\n",
              "                                                     [key], {});\n",
              "          if (!dataTable) return;\n",
              "\n",
              "          const docLinkHtml = 'Like what you see? Visit the ' +\n",
              "            '<a target=\"_blank\" href=https://colab.research.google.com/notebooks/data_table.ipynb>data table notebook</a>'\n",
              "            + ' to learn more about interactive tables.';\n",
              "          element.innerHTML = '';\n",
              "          dataTable['output_type'] = 'display_data';\n",
              "          await google.colab.output.renderOutput(dataTable, element);\n",
              "          const docLink = document.createElement('div');\n",
              "          docLink.innerHTML = docLinkHtml;\n",
              "          element.appendChild(docLink);\n",
              "        }\n",
              "      </script>\n",
              "    </div>\n",
              "  </div>\n",
              "  "
            ],
            "text/plain": [
              "   Organization Group Code Job Family Code Job Code Year Type  Year  \\\n",
              "0                        1            1000     1021  Calendar  2013   \n",
              "1                        1            1000     1023  Calendar  2013   \n",
              "2                        1            1000     1031  Calendar  2013   \n",
              "3                        1            1000     1054  Calendar  2013   \n",
              "4                        1            1000     1062  Calendar  2013   \n",
              "\n",
              "  Organization Group Department Code           Department  Union Code  \\\n",
              "0  Public Protection             ADP  ADP Adult Probation        21.0   \n",
              "1  Public Protection             ADP  ADP Adult Probation        21.0   \n",
              "2  Public Protection             ADP  ADP Adult Probation        21.0   \n",
              "3  Public Protection             ADP  ADP Adult Probation        21.0   \n",
              "4  Public Protection             ADP  ADP Adult Probation        21.0   \n",
              "\n",
              "                                             Union  ... Employee Identifier  \\\n",
              "0  Prof & Tech Engineers - Miscellaneous, Local 21  ...               37730   \n",
              "1  Prof & Tech Engineers - Miscellaneous, Local 21  ...               26574   \n",
              "2  Prof & Tech Engineers - Miscellaneous, Local 21  ...                8148   \n",
              "3  Prof & Tech Engineers - Miscellaneous, Local 21  ...               27436   \n",
              "4  Prof & Tech Engineers - Miscellaneous, Local 21  ...               37730   \n",
              "\n",
              "    Salaries  Overtime  Other Salaries  Total Salary  Retirement  \\\n",
              "0   57534.65       0.0            0.00      57534.65    11253.16   \n",
              "1   57678.50       0.0            0.00      57678.50    10284.88   \n",
              "2   63532.93       0.0            0.00      63532.93    12495.83   \n",
              "3  101274.51       0.0        -7058.59      94215.92    19644.45   \n",
              "4    5084.00       0.0            0.00       5084.00     1083.90   \n",
              "\n",
              "   Health and Dental  Other Benefits  Total Benefits  Total Compensation  \n",
              "0           11961.34         4532.63        27747.13            85281.78  \n",
              "1            7176.80         4755.14        22216.82            79895.32  \n",
              "2           12918.24         4702.71        30116.78            93649.71  \n",
              "3           12918.24         7458.76        40021.45           134237.37  \n",
              "4             956.91          387.50         2428.31             7512.31  \n",
              "\n",
              "[5 rows x 22 columns]"
            ]
          },
          "metadata": {},
          "execution_count": 3
        }
      ]
    },
    {
      "cell_type": "code",
      "source": [
        "df.describe()"
      ],
      "metadata": {
        "colab": {
          "base_uri": "https://localhost:8080/",
          "height": 382
        },
        "id": "8Iz3M1-2xHKy",
        "outputId": "34acaf5f-bdbd-401d-8073-53515f68e368"
      },
      "execution_count": 4,
      "outputs": [
        {
          "output_type": "execute_result",
          "data": {
            "text/html": [
              "\n",
              "  <div id=\"df-1deba537-a349-442c-aa0b-cddd62da674a\">\n",
              "    <div class=\"colab-df-container\">\n",
              "      <div>\n",
              "<style scoped>\n",
              "    .dataframe tbody tr th:only-of-type {\n",
              "        vertical-align: middle;\n",
              "    }\n",
              "\n",
              "    .dataframe tbody tr th {\n",
              "        vertical-align: top;\n",
              "    }\n",
              "\n",
              "    .dataframe thead th {\n",
              "        text-align: right;\n",
              "    }\n",
              "</style>\n",
              "<table border=\"1\" class=\"dataframe\">\n",
              "  <thead>\n",
              "    <tr style=\"text-align: right;\">\n",
              "      <th></th>\n",
              "      <th>Organization Group Code</th>\n",
              "      <th>Year</th>\n",
              "      <th>Union Code</th>\n",
              "      <th>Employee Identifier</th>\n",
              "      <th>Salaries</th>\n",
              "      <th>Overtime</th>\n",
              "      <th>Other Salaries</th>\n",
              "      <th>Total Salary</th>\n",
              "      <th>Retirement</th>\n",
              "      <th>Health and Dental</th>\n",
              "      <th>Other Benefits</th>\n",
              "      <th>Total Benefits</th>\n",
              "      <th>Total Compensation</th>\n",
              "    </tr>\n",
              "  </thead>\n",
              "  <tbody>\n",
              "    <tr>\n",
              "      <th>count</th>\n",
              "      <td>683277.000000</td>\n",
              "      <td>683277.000000</td>\n",
              "      <td>682926.000000</td>\n",
              "      <td>6.832770e+05</td>\n",
              "      <td>683277.000000</td>\n",
              "      <td>683277.000000</td>\n",
              "      <td>683277.000000</td>\n",
              "      <td>683277.000000</td>\n",
              "      <td>683277.000000</td>\n",
              "      <td>683277.000000</td>\n",
              "      <td>683277.000000</td>\n",
              "      <td>683277.000000</td>\n",
              "      <td>683277.000000</td>\n",
              "    </tr>\n",
              "    <tr>\n",
              "      <th>mean</th>\n",
              "      <td>2.977943</td>\n",
              "      <td>2016.364632</td>\n",
              "      <td>492.532173</td>\n",
              "      <td>1.708711e+07</td>\n",
              "      <td>69466.271313</td>\n",
              "      <td>5474.598046</td>\n",
              "      <td>3820.481201</td>\n",
              "      <td>78571.040544</td>\n",
              "      <td>13658.900273</td>\n",
              "      <td>9946.864621</td>\n",
              "      <td>5038.753940</td>\n",
              "      <td>28644.518833</td>\n",
              "      <td>107215.559377</td>\n",
              "    </tr>\n",
              "    <tr>\n",
              "      <th>std</th>\n",
              "      <td>1.579574</td>\n",
              "      <td>2.092180</td>\n",
              "      <td>330.911187</td>\n",
              "      <td>1.925902e+07</td>\n",
              "      <td>47771.799981</td>\n",
              "      <td>13110.029734</td>\n",
              "      <td>8386.602694</td>\n",
              "      <td>55751.218659</td>\n",
              "      <td>10110.075388</td>\n",
              "      <td>5732.982236</td>\n",
              "      <td>3787.981426</td>\n",
              "      <td>17869.713199</td>\n",
              "      <td>72291.710218</td>\n",
              "    </tr>\n",
              "    <tr>\n",
              "      <th>min</th>\n",
              "      <td>1.000000</td>\n",
              "      <td>2013.000000</td>\n",
              "      <td>1.000000</td>\n",
              "      <td>0.000000e+00</td>\n",
              "      <td>-68771.780000</td>\n",
              "      <td>-12308.660000</td>\n",
              "      <td>-19131.100000</td>\n",
              "      <td>-68771.780000</td>\n",
              "      <td>-30621.430000</td>\n",
              "      <td>-3831.090000</td>\n",
              "      <td>-10636.500000</td>\n",
              "      <td>-21295.150000</td>\n",
              "      <td>-74082.610000</td>\n",
              "    </tr>\n",
              "    <tr>\n",
              "      <th>25%</th>\n",
              "      <td>2.000000</td>\n",
              "      <td>2015.000000</td>\n",
              "      <td>250.000000</td>\n",
              "      <td>2.545000e+04</td>\n",
              "      <td>29009.540000</td>\n",
              "      <td>0.000000</td>\n",
              "      <td>0.000000</td>\n",
              "      <td>31676.040000</td>\n",
              "      <td>4662.960000</td>\n",
              "      <td>4780.680000</td>\n",
              "      <td>1870.410000</td>\n",
              "      <td>11716.230000</td>\n",
              "      <td>44439.440000</td>\n",
              "    </tr>\n",
              "    <tr>\n",
              "      <th>50%</th>\n",
              "      <td>2.000000</td>\n",
              "      <td>2017.000000</td>\n",
              "      <td>535.000000</td>\n",
              "      <td>5.097500e+04</td>\n",
              "      <td>67899.360000</td>\n",
              "      <td>0.000000</td>\n",
              "      <td>706.240000</td>\n",
              "      <td>74870.420000</td>\n",
              "      <td>13858.160000</td>\n",
              "      <td>12500.590000</td>\n",
              "      <td>4876.550000</td>\n",
              "      <td>32521.370000</td>\n",
              "      <td>107529.240000</td>\n",
              "    </tr>\n",
              "    <tr>\n",
              "      <th>75%</th>\n",
              "      <td>4.000000</td>\n",
              "      <td>2018.000000</td>\n",
              "      <td>790.000000</td>\n",
              "      <td>3.737703e+07</td>\n",
              "      <td>100416.890000</td>\n",
              "      <td>4223.390000</td>\n",
              "      <td>4362.880000</td>\n",
              "      <td>112666.100000</td>\n",
              "      <td>20151.850000</td>\n",
              "      <td>14037.160000</td>\n",
              "      <td>7525.560000</td>\n",
              "      <td>40915.930000</td>\n",
              "      <td>154170.540000</td>\n",
              "    </tr>\n",
              "    <tr>\n",
              "      <th>max</th>\n",
              "      <td>7.000000</td>\n",
              "      <td>2020.000000</td>\n",
              "      <td>990.000000</td>\n",
              "      <td>4.434643e+07</td>\n",
              "      <td>651936.710000</td>\n",
              "      <td>321523.310000</td>\n",
              "      <td>568163.120000</td>\n",
              "      <td>658867.570000</td>\n",
              "      <td>121952.520000</td>\n",
              "      <td>59405.230000</td>\n",
              "      <td>36815.390000</td>\n",
              "      <td>151645.180000</td>\n",
              "      <td>807625.250000</td>\n",
              "    </tr>\n",
              "  </tbody>\n",
              "</table>\n",
              "</div>\n",
              "      <button class=\"colab-df-convert\" onclick=\"convertToInteractive('df-1deba537-a349-442c-aa0b-cddd62da674a')\"\n",
              "              title=\"Convert this dataframe to an interactive table.\"\n",
              "              style=\"display:none;\">\n",
              "        \n",
              "  <svg xmlns=\"http://www.w3.org/2000/svg\" height=\"24px\"viewBox=\"0 0 24 24\"\n",
              "       width=\"24px\">\n",
              "    <path d=\"M0 0h24v24H0V0z\" fill=\"none\"/>\n",
              "    <path d=\"M18.56 5.44l.94 2.06.94-2.06 2.06-.94-2.06-.94-.94-2.06-.94 2.06-2.06.94zm-11 1L8.5 8.5l.94-2.06 2.06-.94-2.06-.94L8.5 2.5l-.94 2.06-2.06.94zm10 10l.94 2.06.94-2.06 2.06-.94-2.06-.94-.94-2.06-.94 2.06-2.06.94z\"/><path d=\"M17.41 7.96l-1.37-1.37c-.4-.4-.92-.59-1.43-.59-.52 0-1.04.2-1.43.59L10.3 9.45l-7.72 7.72c-.78.78-.78 2.05 0 2.83L4 21.41c.39.39.9.59 1.41.59.51 0 1.02-.2 1.41-.59l7.78-7.78 2.81-2.81c.8-.78.8-2.07 0-2.86zM5.41 20L4 18.59l7.72-7.72 1.47 1.35L5.41 20z\"/>\n",
              "  </svg>\n",
              "      </button>\n",
              "      \n",
              "  <style>\n",
              "    .colab-df-container {\n",
              "      display:flex;\n",
              "      flex-wrap:wrap;\n",
              "      gap: 12px;\n",
              "    }\n",
              "\n",
              "    .colab-df-convert {\n",
              "      background-color: #E8F0FE;\n",
              "      border: none;\n",
              "      border-radius: 50%;\n",
              "      cursor: pointer;\n",
              "      display: none;\n",
              "      fill: #1967D2;\n",
              "      height: 32px;\n",
              "      padding: 0 0 0 0;\n",
              "      width: 32px;\n",
              "    }\n",
              "\n",
              "    .colab-df-convert:hover {\n",
              "      background-color: #E2EBFA;\n",
              "      box-shadow: 0px 1px 2px rgba(60, 64, 67, 0.3), 0px 1px 3px 1px rgba(60, 64, 67, 0.15);\n",
              "      fill: #174EA6;\n",
              "    }\n",
              "\n",
              "    [theme=dark] .colab-df-convert {\n",
              "      background-color: #3B4455;\n",
              "      fill: #D2E3FC;\n",
              "    }\n",
              "\n",
              "    [theme=dark] .colab-df-convert:hover {\n",
              "      background-color: #434B5C;\n",
              "      box-shadow: 0px 1px 3px 1px rgba(0, 0, 0, 0.15);\n",
              "      filter: drop-shadow(0px 1px 2px rgba(0, 0, 0, 0.3));\n",
              "      fill: #FFFFFF;\n",
              "    }\n",
              "  </style>\n",
              "\n",
              "      <script>\n",
              "        const buttonEl =\n",
              "          document.querySelector('#df-1deba537-a349-442c-aa0b-cddd62da674a button.colab-df-convert');\n",
              "        buttonEl.style.display =\n",
              "          google.colab.kernel.accessAllowed ? 'block' : 'none';\n",
              "\n",
              "        async function convertToInteractive(key) {\n",
              "          const element = document.querySelector('#df-1deba537-a349-442c-aa0b-cddd62da674a');\n",
              "          const dataTable =\n",
              "            await google.colab.kernel.invokeFunction('convertToInteractive',\n",
              "                                                     [key], {});\n",
              "          if (!dataTable) return;\n",
              "\n",
              "          const docLinkHtml = 'Like what you see? Visit the ' +\n",
              "            '<a target=\"_blank\" href=https://colab.research.google.com/notebooks/data_table.ipynb>data table notebook</a>'\n",
              "            + ' to learn more about interactive tables.';\n",
              "          element.innerHTML = '';\n",
              "          dataTable['output_type'] = 'display_data';\n",
              "          await google.colab.output.renderOutput(dataTable, element);\n",
              "          const docLink = document.createElement('div');\n",
              "          docLink.innerHTML = docLinkHtml;\n",
              "          element.appendChild(docLink);\n",
              "        }\n",
              "      </script>\n",
              "    </div>\n",
              "  </div>\n",
              "  "
            ],
            "text/plain": [
              "       Organization Group Code           Year     Union Code  \\\n",
              "count            683277.000000  683277.000000  682926.000000   \n",
              "mean                  2.977943    2016.364632     492.532173   \n",
              "std                   1.579574       2.092180     330.911187   \n",
              "min                   1.000000    2013.000000       1.000000   \n",
              "25%                   2.000000    2015.000000     250.000000   \n",
              "50%                   2.000000    2017.000000     535.000000   \n",
              "75%                   4.000000    2018.000000     790.000000   \n",
              "max                   7.000000    2020.000000     990.000000   \n",
              "\n",
              "       Employee Identifier       Salaries       Overtime  Other Salaries  \\\n",
              "count         6.832770e+05  683277.000000  683277.000000   683277.000000   \n",
              "mean          1.708711e+07   69466.271313    5474.598046     3820.481201   \n",
              "std           1.925902e+07   47771.799981   13110.029734     8386.602694   \n",
              "min           0.000000e+00  -68771.780000  -12308.660000   -19131.100000   \n",
              "25%           2.545000e+04   29009.540000       0.000000        0.000000   \n",
              "50%           5.097500e+04   67899.360000       0.000000      706.240000   \n",
              "75%           3.737703e+07  100416.890000    4223.390000     4362.880000   \n",
              "max           4.434643e+07  651936.710000  321523.310000   568163.120000   \n",
              "\n",
              "        Total Salary     Retirement  Health and Dental  Other Benefits  \\\n",
              "count  683277.000000  683277.000000      683277.000000   683277.000000   \n",
              "mean    78571.040544   13658.900273        9946.864621     5038.753940   \n",
              "std     55751.218659   10110.075388        5732.982236     3787.981426   \n",
              "min    -68771.780000  -30621.430000       -3831.090000   -10636.500000   \n",
              "25%     31676.040000    4662.960000        4780.680000     1870.410000   \n",
              "50%     74870.420000   13858.160000       12500.590000     4876.550000   \n",
              "75%    112666.100000   20151.850000       14037.160000     7525.560000   \n",
              "max    658867.570000  121952.520000       59405.230000    36815.390000   \n",
              "\n",
              "       Total Benefits  Total Compensation  \n",
              "count   683277.000000       683277.000000  \n",
              "mean     28644.518833       107215.559377  \n",
              "std      17869.713199        72291.710218  \n",
              "min     -21295.150000       -74082.610000  \n",
              "25%      11716.230000        44439.440000  \n",
              "50%      32521.370000       107529.240000  \n",
              "75%      40915.930000       154170.540000  \n",
              "max     151645.180000       807625.250000  "
            ]
          },
          "metadata": {},
          "execution_count": 4
        }
      ]
    },
    {
      "cell_type": "code",
      "source": [
        "df.shape"
      ],
      "metadata": {
        "colab": {
          "base_uri": "https://localhost:8080/"
        },
        "id": "dyuRfr6D0mW9",
        "outputId": "5cd78392-c027-4fd3-f94f-da8c4cb2c717"
      },
      "execution_count": 5,
      "outputs": [
        {
          "output_type": "execute_result",
          "data": {
            "text/plain": [
              "(683277, 22)"
            ]
          },
          "metadata": {},
          "execution_count": 5
        }
      ]
    },
    {
      "cell_type": "code",
      "source": [
        "df.info()"
      ],
      "metadata": {
        "colab": {
          "base_uri": "https://localhost:8080/"
        },
        "id": "nrCWrfaM0DiQ",
        "outputId": "a58a54fb-33b2-4003-a07f-4fa91eeed6a5"
      },
      "execution_count": 6,
      "outputs": [
        {
          "output_type": "stream",
          "name": "stdout",
          "text": [
            "<class 'pandas.core.frame.DataFrame'>\n",
            "RangeIndex: 683277 entries, 0 to 683276\n",
            "Data columns (total 22 columns):\n",
            " #   Column                   Non-Null Count   Dtype  \n",
            "---  ------                   --------------   -----  \n",
            " 0   Organization Group Code  683277 non-null  int64  \n",
            " 1   Job Family Code          683277 non-null  object \n",
            " 2   Job Code                 683277 non-null  object \n",
            " 3   Year Type                683277 non-null  object \n",
            " 4   Year                     683277 non-null  int64  \n",
            " 5   Organization Group       683277 non-null  object \n",
            " 6   Department Code          683275 non-null  object \n",
            " 7   Department               683275 non-null  object \n",
            " 8   Union Code               682926 non-null  float64\n",
            " 9   Union                    682926 non-null  object \n",
            " 10  Job Family               683277 non-null  object \n",
            " 11  Job                      683272 non-null  object \n",
            " 12  Employee Identifier      683277 non-null  int64  \n",
            " 13  Salaries                 683277 non-null  float64\n",
            " 14  Overtime                 683277 non-null  float64\n",
            " 15  Other Salaries           683277 non-null  float64\n",
            " 16  Total Salary             683277 non-null  float64\n",
            " 17  Retirement               683277 non-null  float64\n",
            " 18  Health and Dental        683277 non-null  float64\n",
            " 19  Other Benefits           683277 non-null  float64\n",
            " 20  Total Benefits           683277 non-null  float64\n",
            " 21  Total Compensation       683277 non-null  float64\n",
            "dtypes: float64(10), int64(3), object(9)\n",
            "memory usage: 114.7+ MB\n"
          ]
        }
      ]
    },
    {
      "cell_type": "code",
      "source": [
        "df.isna().sum()"
      ],
      "metadata": {
        "colab": {
          "base_uri": "https://localhost:8080/"
        },
        "id": "WNuyVHDG0I_r",
        "outputId": "a9db7118-8735-4a41-99fd-6ba1d602e0fd"
      },
      "execution_count": 7,
      "outputs": [
        {
          "output_type": "execute_result",
          "data": {
            "text/plain": [
              "Organization Group Code      0\n",
              "Job Family Code              0\n",
              "Job Code                     0\n",
              "Year Type                    0\n",
              "Year                         0\n",
              "Organization Group           0\n",
              "Department Code              2\n",
              "Department                   2\n",
              "Union Code                 351\n",
              "Union                      351\n",
              "Job Family                   0\n",
              "Job                          5\n",
              "Employee Identifier          0\n",
              "Salaries                     0\n",
              "Overtime                     0\n",
              "Other Salaries               0\n",
              "Total Salary                 0\n",
              "Retirement                   0\n",
              "Health and Dental            0\n",
              "Other Benefits               0\n",
              "Total Benefits               0\n",
              "Total Compensation           0\n",
              "dtype: int64"
            ]
          },
          "metadata": {},
          "execution_count": 7
        }
      ]
    },
    {
      "cell_type": "code",
      "source": [
        "df1 = df.dropna()\n",
        "df1.head()"
      ],
      "metadata": {
        "colab": {
          "base_uri": "https://localhost:8080/",
          "height": 595
        },
        "id": "C-HL1sM5l5ES",
        "outputId": "a5815ef1-a95f-4c0d-b54a-82980f6affaf"
      },
      "execution_count": 8,
      "outputs": [
        {
          "output_type": "execute_result",
          "data": {
            "text/html": [
              "\n",
              "  <div id=\"df-535f22fc-016e-45cd-82b4-2c4a47e156b2\">\n",
              "    <div class=\"colab-df-container\">\n",
              "      <div>\n",
              "<style scoped>\n",
              "    .dataframe tbody tr th:only-of-type {\n",
              "        vertical-align: middle;\n",
              "    }\n",
              "\n",
              "    .dataframe tbody tr th {\n",
              "        vertical-align: top;\n",
              "    }\n",
              "\n",
              "    .dataframe thead th {\n",
              "        text-align: right;\n",
              "    }\n",
              "</style>\n",
              "<table border=\"1\" class=\"dataframe\">\n",
              "  <thead>\n",
              "    <tr style=\"text-align: right;\">\n",
              "      <th></th>\n",
              "      <th>Organization Group Code</th>\n",
              "      <th>Job Family Code</th>\n",
              "      <th>Job Code</th>\n",
              "      <th>Year Type</th>\n",
              "      <th>Year</th>\n",
              "      <th>Organization Group</th>\n",
              "      <th>Department Code</th>\n",
              "      <th>Department</th>\n",
              "      <th>Union Code</th>\n",
              "      <th>Union</th>\n",
              "      <th>...</th>\n",
              "      <th>Employee Identifier</th>\n",
              "      <th>Salaries</th>\n",
              "      <th>Overtime</th>\n",
              "      <th>Other Salaries</th>\n",
              "      <th>Total Salary</th>\n",
              "      <th>Retirement</th>\n",
              "      <th>Health and Dental</th>\n",
              "      <th>Other Benefits</th>\n",
              "      <th>Total Benefits</th>\n",
              "      <th>Total Compensation</th>\n",
              "    </tr>\n",
              "  </thead>\n",
              "  <tbody>\n",
              "    <tr>\n",
              "      <th>0</th>\n",
              "      <td>1</td>\n",
              "      <td>1000</td>\n",
              "      <td>1021</td>\n",
              "      <td>Calendar</td>\n",
              "      <td>2013</td>\n",
              "      <td>Public Protection</td>\n",
              "      <td>ADP</td>\n",
              "      <td>ADP Adult Probation</td>\n",
              "      <td>21.0</td>\n",
              "      <td>Prof &amp; Tech Engineers - Miscellaneous, Local 21</td>\n",
              "      <td>...</td>\n",
              "      <td>37730</td>\n",
              "      <td>57534.65</td>\n",
              "      <td>0.0</td>\n",
              "      <td>0.00</td>\n",
              "      <td>57534.65</td>\n",
              "      <td>11253.16</td>\n",
              "      <td>11961.34</td>\n",
              "      <td>4532.63</td>\n",
              "      <td>27747.13</td>\n",
              "      <td>85281.78</td>\n",
              "    </tr>\n",
              "    <tr>\n",
              "      <th>1</th>\n",
              "      <td>1</td>\n",
              "      <td>1000</td>\n",
              "      <td>1023</td>\n",
              "      <td>Calendar</td>\n",
              "      <td>2013</td>\n",
              "      <td>Public Protection</td>\n",
              "      <td>ADP</td>\n",
              "      <td>ADP Adult Probation</td>\n",
              "      <td>21.0</td>\n",
              "      <td>Prof &amp; Tech Engineers - Miscellaneous, Local 21</td>\n",
              "      <td>...</td>\n",
              "      <td>26574</td>\n",
              "      <td>57678.50</td>\n",
              "      <td>0.0</td>\n",
              "      <td>0.00</td>\n",
              "      <td>57678.50</td>\n",
              "      <td>10284.88</td>\n",
              "      <td>7176.80</td>\n",
              "      <td>4755.14</td>\n",
              "      <td>22216.82</td>\n",
              "      <td>79895.32</td>\n",
              "    </tr>\n",
              "    <tr>\n",
              "      <th>2</th>\n",
              "      <td>1</td>\n",
              "      <td>1000</td>\n",
              "      <td>1031</td>\n",
              "      <td>Calendar</td>\n",
              "      <td>2013</td>\n",
              "      <td>Public Protection</td>\n",
              "      <td>ADP</td>\n",
              "      <td>ADP Adult Probation</td>\n",
              "      <td>21.0</td>\n",
              "      <td>Prof &amp; Tech Engineers - Miscellaneous, Local 21</td>\n",
              "      <td>...</td>\n",
              "      <td>8148</td>\n",
              "      <td>63532.93</td>\n",
              "      <td>0.0</td>\n",
              "      <td>0.00</td>\n",
              "      <td>63532.93</td>\n",
              "      <td>12495.83</td>\n",
              "      <td>12918.24</td>\n",
              "      <td>4702.71</td>\n",
              "      <td>30116.78</td>\n",
              "      <td>93649.71</td>\n",
              "    </tr>\n",
              "    <tr>\n",
              "      <th>3</th>\n",
              "      <td>1</td>\n",
              "      <td>1000</td>\n",
              "      <td>1054</td>\n",
              "      <td>Calendar</td>\n",
              "      <td>2013</td>\n",
              "      <td>Public Protection</td>\n",
              "      <td>ADP</td>\n",
              "      <td>ADP Adult Probation</td>\n",
              "      <td>21.0</td>\n",
              "      <td>Prof &amp; Tech Engineers - Miscellaneous, Local 21</td>\n",
              "      <td>...</td>\n",
              "      <td>27436</td>\n",
              "      <td>101274.51</td>\n",
              "      <td>0.0</td>\n",
              "      <td>-7058.59</td>\n",
              "      <td>94215.92</td>\n",
              "      <td>19644.45</td>\n",
              "      <td>12918.24</td>\n",
              "      <td>7458.76</td>\n",
              "      <td>40021.45</td>\n",
              "      <td>134237.37</td>\n",
              "    </tr>\n",
              "    <tr>\n",
              "      <th>4</th>\n",
              "      <td>1</td>\n",
              "      <td>1000</td>\n",
              "      <td>1062</td>\n",
              "      <td>Calendar</td>\n",
              "      <td>2013</td>\n",
              "      <td>Public Protection</td>\n",
              "      <td>ADP</td>\n",
              "      <td>ADP Adult Probation</td>\n",
              "      <td>21.0</td>\n",
              "      <td>Prof &amp; Tech Engineers - Miscellaneous, Local 21</td>\n",
              "      <td>...</td>\n",
              "      <td>37730</td>\n",
              "      <td>5084.00</td>\n",
              "      <td>0.0</td>\n",
              "      <td>0.00</td>\n",
              "      <td>5084.00</td>\n",
              "      <td>1083.90</td>\n",
              "      <td>956.91</td>\n",
              "      <td>387.50</td>\n",
              "      <td>2428.31</td>\n",
              "      <td>7512.31</td>\n",
              "    </tr>\n",
              "  </tbody>\n",
              "</table>\n",
              "<p>5 rows × 22 columns</p>\n",
              "</div>\n",
              "      <button class=\"colab-df-convert\" onclick=\"convertToInteractive('df-535f22fc-016e-45cd-82b4-2c4a47e156b2')\"\n",
              "              title=\"Convert this dataframe to an interactive table.\"\n",
              "              style=\"display:none;\">\n",
              "        \n",
              "  <svg xmlns=\"http://www.w3.org/2000/svg\" height=\"24px\"viewBox=\"0 0 24 24\"\n",
              "       width=\"24px\">\n",
              "    <path d=\"M0 0h24v24H0V0z\" fill=\"none\"/>\n",
              "    <path d=\"M18.56 5.44l.94 2.06.94-2.06 2.06-.94-2.06-.94-.94-2.06-.94 2.06-2.06.94zm-11 1L8.5 8.5l.94-2.06 2.06-.94-2.06-.94L8.5 2.5l-.94 2.06-2.06.94zm10 10l.94 2.06.94-2.06 2.06-.94-2.06-.94-.94-2.06-.94 2.06-2.06.94z\"/><path d=\"M17.41 7.96l-1.37-1.37c-.4-.4-.92-.59-1.43-.59-.52 0-1.04.2-1.43.59L10.3 9.45l-7.72 7.72c-.78.78-.78 2.05 0 2.83L4 21.41c.39.39.9.59 1.41.59.51 0 1.02-.2 1.41-.59l7.78-7.78 2.81-2.81c.8-.78.8-2.07 0-2.86zM5.41 20L4 18.59l7.72-7.72 1.47 1.35L5.41 20z\"/>\n",
              "  </svg>\n",
              "      </button>\n",
              "      \n",
              "  <style>\n",
              "    .colab-df-container {\n",
              "      display:flex;\n",
              "      flex-wrap:wrap;\n",
              "      gap: 12px;\n",
              "    }\n",
              "\n",
              "    .colab-df-convert {\n",
              "      background-color: #E8F0FE;\n",
              "      border: none;\n",
              "      border-radius: 50%;\n",
              "      cursor: pointer;\n",
              "      display: none;\n",
              "      fill: #1967D2;\n",
              "      height: 32px;\n",
              "      padding: 0 0 0 0;\n",
              "      width: 32px;\n",
              "    }\n",
              "\n",
              "    .colab-df-convert:hover {\n",
              "      background-color: #E2EBFA;\n",
              "      box-shadow: 0px 1px 2px rgba(60, 64, 67, 0.3), 0px 1px 3px 1px rgba(60, 64, 67, 0.15);\n",
              "      fill: #174EA6;\n",
              "    }\n",
              "\n",
              "    [theme=dark] .colab-df-convert {\n",
              "      background-color: #3B4455;\n",
              "      fill: #D2E3FC;\n",
              "    }\n",
              "\n",
              "    [theme=dark] .colab-df-convert:hover {\n",
              "      background-color: #434B5C;\n",
              "      box-shadow: 0px 1px 3px 1px rgba(0, 0, 0, 0.15);\n",
              "      filter: drop-shadow(0px 1px 2px rgba(0, 0, 0, 0.3));\n",
              "      fill: #FFFFFF;\n",
              "    }\n",
              "  </style>\n",
              "\n",
              "      <script>\n",
              "        const buttonEl =\n",
              "          document.querySelector('#df-535f22fc-016e-45cd-82b4-2c4a47e156b2 button.colab-df-convert');\n",
              "        buttonEl.style.display =\n",
              "          google.colab.kernel.accessAllowed ? 'block' : 'none';\n",
              "\n",
              "        async function convertToInteractive(key) {\n",
              "          const element = document.querySelector('#df-535f22fc-016e-45cd-82b4-2c4a47e156b2');\n",
              "          const dataTable =\n",
              "            await google.colab.kernel.invokeFunction('convertToInteractive',\n",
              "                                                     [key], {});\n",
              "          if (!dataTable) return;\n",
              "\n",
              "          const docLinkHtml = 'Like what you see? Visit the ' +\n",
              "            '<a target=\"_blank\" href=https://colab.research.google.com/notebooks/data_table.ipynb>data table notebook</a>'\n",
              "            + ' to learn more about interactive tables.';\n",
              "          element.innerHTML = '';\n",
              "          dataTable['output_type'] = 'display_data';\n",
              "          await google.colab.output.renderOutput(dataTable, element);\n",
              "          const docLink = document.createElement('div');\n",
              "          docLink.innerHTML = docLinkHtml;\n",
              "          element.appendChild(docLink);\n",
              "        }\n",
              "      </script>\n",
              "    </div>\n",
              "  </div>\n",
              "  "
            ],
            "text/plain": [
              "   Organization Group Code Job Family Code Job Code Year Type  Year  \\\n",
              "0                        1            1000     1021  Calendar  2013   \n",
              "1                        1            1000     1023  Calendar  2013   \n",
              "2                        1            1000     1031  Calendar  2013   \n",
              "3                        1            1000     1054  Calendar  2013   \n",
              "4                        1            1000     1062  Calendar  2013   \n",
              "\n",
              "  Organization Group Department Code           Department  Union Code  \\\n",
              "0  Public Protection             ADP  ADP Adult Probation        21.0   \n",
              "1  Public Protection             ADP  ADP Adult Probation        21.0   \n",
              "2  Public Protection             ADP  ADP Adult Probation        21.0   \n",
              "3  Public Protection             ADP  ADP Adult Probation        21.0   \n",
              "4  Public Protection             ADP  ADP Adult Probation        21.0   \n",
              "\n",
              "                                             Union  ... Employee Identifier  \\\n",
              "0  Prof & Tech Engineers - Miscellaneous, Local 21  ...               37730   \n",
              "1  Prof & Tech Engineers - Miscellaneous, Local 21  ...               26574   \n",
              "2  Prof & Tech Engineers - Miscellaneous, Local 21  ...                8148   \n",
              "3  Prof & Tech Engineers - Miscellaneous, Local 21  ...               27436   \n",
              "4  Prof & Tech Engineers - Miscellaneous, Local 21  ...               37730   \n",
              "\n",
              "    Salaries  Overtime  Other Salaries  Total Salary  Retirement  \\\n",
              "0   57534.65       0.0            0.00      57534.65    11253.16   \n",
              "1   57678.50       0.0            0.00      57678.50    10284.88   \n",
              "2   63532.93       0.0            0.00      63532.93    12495.83   \n",
              "3  101274.51       0.0        -7058.59      94215.92    19644.45   \n",
              "4    5084.00       0.0            0.00       5084.00     1083.90   \n",
              "\n",
              "   Health and Dental  Other Benefits  Total Benefits  Total Compensation  \n",
              "0           11961.34         4532.63        27747.13            85281.78  \n",
              "1            7176.80         4755.14        22216.82            79895.32  \n",
              "2           12918.24         4702.71        30116.78            93649.71  \n",
              "3           12918.24         7458.76        40021.45           134237.37  \n",
              "4             956.91          387.50         2428.31             7512.31  \n",
              "\n",
              "[5 rows x 22 columns]"
            ]
          },
          "metadata": {},
          "execution_count": 8
        }
      ]
    },
    {
      "cell_type": "code",
      "source": [
        "plt.figure(figsize=(20,20))\n",
        "sns.heatmap(df1.corr(),annot=True)"
      ],
      "metadata": {
        "colab": {
          "base_uri": "https://localhost:8080/",
          "height": 1000
        },
        "id": "sStOhT7-0OIv",
        "outputId": "f1daa09a-e005-40ba-d276-1d342a3c862b"
      },
      "execution_count": 9,
      "outputs": [
        {
          "output_type": "execute_result",
          "data": {
            "text/plain": [
              "<matplotlib.axes._subplots.AxesSubplot at 0x7f962bc7f9d0>"
            ]
          },
          "metadata": {},
          "execution_count": 9
        },
        {
          "output_type": "display_data",
          "data": {
            "image/png": "[encoded data removed]",
            "text/plain": [
              "<Figure size 1440x1440 with 2 Axes>"
            ]
          },
          "metadata": {
            "needs_background": "light"
          }
        }
      ]
    },
    {
      "cell_type": "code",
      "source": [
        "df1.columns"
      ],
      "metadata": {
        "colab": {
          "base_uri": "https://localhost:8080/"
        },
        "id": "ROerlPuRfEsu",
        "outputId": "544422f2-70ad-490c-c89c-92a216a8d164"
      },
      "execution_count": 10,
      "outputs": [
        {
          "output_type": "execute_result",
          "data": {
            "text/plain": [
              "Index(['Organization Group Code', 'Job Family Code', 'Job Code', 'Year Type',\n",
              "       'Year', 'Organization Group', 'Department Code', 'Department',\n",
              "       'Union Code', 'Union', 'Job Family', 'Job', 'Employee Identifier',\n",
              "       'Salaries', 'Overtime', 'Other Salaries', 'Total Salary', 'Retirement',\n",
              "       'Health and Dental', 'Other Benefits', 'Total Benefits',\n",
              "       'Total Compensation'],\n",
              "      dtype='object')"
            ]
          },
          "metadata": {},
          "execution_count": 10
        }
      ]
    },
    {
      "cell_type": "code",
      "source": [
        "df2 = df1.drop(['Organization Group Code', 'Job Family Code', 'Job Code', 'Year Type',\n",
        "       'Year', 'Organization Group', 'Department Code', 'Department',\n",
        "       'Union Code', 'Union', 'Job Family', 'Job', 'Employee Identifier',\n",
        "       'Salaries', 'Overtime', 'Other Salaries', 'Total Salary', 'Retirement',\n",
        "       'Health and Dental', 'Other Benefits', 'Total Benefits'],axis=1)\n",
        "df2['retirement_and_health'] = df1['Retirement']+df1['Health and Dental']\n",
        "df2.head()"
      ],
      "metadata": {
        "colab": {
          "base_uri": "https://localhost:8080/",
          "height": 206
        },
        "id": "DhHWUAiNUUp5",
        "outputId": "92e758ac-b9ab-49e9-931f-6c84986ce2c5"
      },
      "execution_count": 11,
      "outputs": [
        {
          "output_type": "execute_result",
          "data": {
            "text/html": [
              "\n",
              "  <div id=\"df-553839b1-b4bd-4ab0-880b-d93a4dfc9d5e\">\n",
              "    <div class=\"colab-df-container\">\n",
              "      <div>\n",
              "<style scoped>\n",
              "    .dataframe tbody tr th:only-of-type {\n",
              "        vertical-align: middle;\n",
              "    }\n",
              "\n",
              "    .dataframe tbody tr th {\n",
              "        vertical-align: top;\n",
              "    }\n",
              "\n",
              "    .dataframe thead th {\n",
              "        text-align: right;\n",
              "    }\n",
              "</style>\n",
              "<table border=\"1\" class=\"dataframe\">\n",
              "  <thead>\n",
              "    <tr style=\"text-align: right;\">\n",
              "      <th></th>\n",
              "      <th>Total Compensation</th>\n",
              "      <th>retirement_and_health</th>\n",
              "    </tr>\n",
              "  </thead>\n",
              "  <tbody>\n",
              "    <tr>\n",
              "      <th>0</th>\n",
              "      <td>85281.78</td>\n",
              "      <td>23214.50</td>\n",
              "    </tr>\n",
              "    <tr>\n",
              "      <th>1</th>\n",
              "      <td>79895.32</td>\n",
              "      <td>17461.68</td>\n",
              "    </tr>\n",
              "    <tr>\n",
              "      <th>2</th>\n",
              "      <td>93649.71</td>\n",
              "      <td>25414.07</td>\n",
              "    </tr>\n",
              "    <tr>\n",
              "      <th>3</th>\n",
              "      <td>134237.37</td>\n",
              "      <td>32562.69</td>\n",
              "    </tr>\n",
              "    <tr>\n",
              "      <th>4</th>\n",
              "      <td>7512.31</td>\n",
              "      <td>2040.81</td>\n",
              "    </tr>\n",
              "  </tbody>\n",
              "</table>\n",
              "</div>\n",
              "      <button class=\"colab-df-convert\" onclick=\"convertToInteractive('df-553839b1-b4bd-4ab0-880b-d93a4dfc9d5e')\"\n",
              "              title=\"Convert this dataframe to an interactive table.\"\n",
              "              style=\"display:none;\">\n",
              "        \n",
              "  <svg xmlns=\"http://www.w3.org/2000/svg\" height=\"24px\"viewBox=\"0 0 24 24\"\n",
              "       width=\"24px\">\n",
              "    <path d=\"M0 0h24v24H0V0z\" fill=\"none\"/>\n",
              "    <path d=\"M18.56 5.44l.94 2.06.94-2.06 2.06-.94-2.06-.94-.94-2.06-.94 2.06-2.06.94zm-11 1L8.5 8.5l.94-2.06 2.06-.94-2.06-.94L8.5 2.5l-.94 2.06-2.06.94zm10 10l.94 2.06.94-2.06 2.06-.94-2.06-.94-.94-2.06-.94 2.06-2.06.94z\"/><path d=\"M17.41 7.96l-1.37-1.37c-.4-.4-.92-.59-1.43-.59-.52 0-1.04.2-1.43.59L10.3 9.45l-7.72 7.72c-.78.78-.78 2.05 0 2.83L4 21.41c.39.39.9.59 1.41.59.51 0 1.02-.2 1.41-.59l7.78-7.78 2.81-2.81c.8-.78.8-2.07 0-2.86zM5.41 20L4 18.59l7.72-7.72 1.47 1.35L5.41 20z\"/>\n",
              "  </svg>\n",
              "      </button>\n",
              "      \n",
              "  <style>\n",
              "    .colab-df-container {\n",
              "      display:flex;\n",
              "      flex-wrap:wrap;\n",
              "      gap: 12px;\n",
              "    }\n",
              "\n",
              "    .colab-df-convert {\n",
              "      background-color: #E8F0FE;\n",
              "      border: none;\n",
              "      border-radius: 50%;\n",
              "      cursor: pointer;\n",
              "      display: none;\n",
              "      fill: #1967D2;\n",
              "      height: 32px;\n",
              "      padding: 0 0 0 0;\n",
              "      width: 32px;\n",
              "    }\n",
              "\n",
              "    .colab-df-convert:hover {\n",
              "      background-color: #E2EBFA;\n",
              "      box-shadow: 0px 1px 2px rgba(60, 64, 67, 0.3), 0px 1px 3px 1px rgba(60, 64, 67, 0.15);\n",
              "      fill: #174EA6;\n",
              "    }\n",
              "\n",
              "    [theme=dark] .colab-df-convert {\n",
              "      background-color: #3B4455;\n",
              "      fill: #D2E3FC;\n",
              "    }\n",
              "\n",
              "    [theme=dark] .colab-df-convert:hover {\n",
              "      background-color: #434B5C;\n",
              "      box-shadow: 0px 1px 3px 1px rgba(0, 0, 0, 0.15);\n",
              "      filter: drop-shadow(0px 1px 2px rgba(0, 0, 0, 0.3));\n",
              "      fill: #FFFFFF;\n",
              "    }\n",
              "  </style>\n",
              "\n",
              "      <script>\n",
              "        const buttonEl =\n",
              "          document.querySelector('#df-553839b1-b4bd-4ab0-880b-d93a4dfc9d5e button.colab-df-convert');\n",
              "        buttonEl.style.display =\n",
              "          google.colab.kernel.accessAllowed ? 'block' : 'none';\n",
              "\n",
              "        async function convertToInteractive(key) {\n",
              "          const element = document.querySelector('#df-553839b1-b4bd-4ab0-880b-d93a4dfc9d5e');\n",
              "          const dataTable =\n",
              "            await google.colab.kernel.invokeFunction('convertToInteractive',\n",
              "                                                     [key], {});\n",
              "          if (!dataTable) return;\n",
              "\n",
              "          const docLinkHtml = 'Like what you see? Visit the ' +\n",
              "            '<a target=\"_blank\" href=https://colab.research.google.com/notebooks/data_table.ipynb>data table notebook</a>'\n",
              "            + ' to learn more about interactive tables.';\n",
              "          element.innerHTML = '';\n",
              "          dataTable['output_type'] = 'display_data';\n",
              "          await google.colab.output.renderOutput(dataTable, element);\n",
              "          const docLink = document.createElement('div');\n",
              "          docLink.innerHTML = docLinkHtml;\n",
              "          element.appendChild(docLink);\n",
              "        }\n",
              "      </script>\n",
              "    </div>\n",
              "  </div>\n",
              "  "
            ],
            "text/plain": [
              "   Total Compensation  retirement_and_health\n",
              "0            85281.78               23214.50\n",
              "1            79895.32               17461.68\n",
              "2            93649.71               25414.07\n",
              "3           134237.37               32562.69\n",
              "4             7512.31                2040.81"
            ]
          },
          "metadata": {},
          "execution_count": 11
        }
      ]
    },
    {
      "cell_type": "code",
      "source": [
        "sns.distplot(df2['Total Compensation'])\n",
        "plt.show()"
      ],
      "metadata": {
        "colab": {
          "base_uri": "https://localhost:8080/",
          "height": 345
        },
        "id": "iAiTH69FeuM_",
        "outputId": "9b2abc5e-fe5f-41b7-ad42-c96111676359"
      },
      "execution_count": 12,
      "outputs": [
        {
          "output_type": "stream",
          "name": "stderr",
          "text": [
            "/usr/local/lib/python3.7/dist-packages/seaborn/distributions.py:2619: FutureWarning: `distplot` is a deprecated function and will be removed in a future version. Please adapt your code to use either `displot` (a figure-level function with similar flexibility) or `histplot` (an axes-level function for histograms).\n",
            "  warnings.warn(msg, FutureWarning)\n"
          ]
        },
        {
          "output_type": "display_data",
          "data": {
            "image/png": "[encoded data removed]",
            "text/plain": [
              "<Figure size 432x288 with 1 Axes>"
            ]
          },
          "metadata": {
            "needs_background": "light"
          }
        }
      ]
    },
    {
      "cell_type": "code",
      "source": [
        "print('Skewness :',df2['Total Compensation'].skew())\n",
        "print('kurtosis :',df2['Total Compensation'].kurt())"
      ],
      "metadata": {
        "colab": {
          "base_uri": "https://localhost:8080/"
        },
        "id": "e32RDKjmgqHi",
        "outputId": "db8b8dd5-cffa-4145-a8a3-2ecd16dee008"
      },
      "execution_count": 13,
      "outputs": [
        {
          "output_type": "stream",
          "name": "stdout",
          "text": [
            "Skewness : 0.409119326382282\n",
            "kurtosis : 0.020115932230928113\n"
          ]
        }
      ]
    },
    {
      "cell_type": "code",
      "source": [
        "from scipy.spatial.distance import cdist,pdist\n",
        "from sklearn.cluster import KMeans"
      ],
      "metadata": {
        "id": "2v2XVaGFg9bh"
      },
      "execution_count": 14,
      "outputs": []
    },
    {
      "cell_type": "code",
      "source": [
        "K = range(1, 11)\n",
        "X= df2.values\n",
        "wcss = []\n",
        "for i in K:\n",
        "    # Building and fitting the model\n",
        "    kmean = KMeans(n_clusters=i)\n",
        "    kmean.fit(X)\n",
        "    wcss.append(kmean.inertia_)\n",
        " \n",
        "    "
      ],
      "metadata": {
        "id": "CtyCV_46hVgn"
      },
      "execution_count": 15,
      "outputs": []
    },
    {
      "cell_type": "code",
      "source": [
        "sns.set()\n",
        "plt.plot(K,wcss)\n",
        "plt.title('The Elbow point graph')\n",
        "plt.xlabel('Number of clusters')\n",
        "plt.ylabel('WCSS')\n",
        "plt.tight_layout()"
      ],
      "metadata": {
        "colab": {
          "base_uri": "https://localhost:8080/",
          "height": 293
        },
        "id": "AkJqc1PgiZVM",
        "outputId": "74db0e05-3a62-4ed5-a292-d1c04e1a4668"
      },
      "execution_count": 16,
      "outputs": [
        {
          "output_type": "display_data",
          "data": {
            "image/png": "[encoded data removed]",
            "text/plain": [
              "<Figure size 432x288 with 1 Axes>"
            ]
          },
          "metadata": {}
        }
      ]
    },
    {
      "cell_type": "code",
      "source": [
        "kmeans = KMeans(n_clusters=3)\n",
        "Y = kmeans.fit(X)\n",
        "Y"
      ],
      "metadata": {
        "colab": {
          "base_uri": "https://localhost:8080/"
        },
        "id": "PzQoSuFriwXE",
        "outputId": "875da7e9-7f99-470a-e3e4-7eb744eb32a8"
      },
      "execution_count": 17,
      "outputs": [
        {
          "output_type": "execute_result",
          "data": {
            "text/plain": [
              "KMeans(n_clusters=3)"
            ]
          },
          "metadata": {},
          "execution_count": 17
        }
      ]
    },
    {
      "cell_type": "code",
      "source": [
        "plt.scatter(df2.iloc[:,1].values,df2.iloc[:,0].values, c=kmeans.labels_, cmap=\"rainbow\")\n",
        "centers = np.array(kmeans.cluster_centers_)\n",
        "plt.scatter(centers[:,0], centers[:,1], marker=\"x\", color='k')\n",
        "plt.show()"
      ],
      "metadata": {
        "colab": {
          "base_uri": "https://localhost:8080/",
          "height": 268
        },
        "id": "BSthHSXMmvJn",
        "outputId": "739221a5-3737-4ef4-de5f-f8fc01ef6abc"
      },
      "execution_count": 18,
      "outputs": [
        {
          "output_type": "display_data",
          "data": {
            "image/png": "[encoded data removed]",
            "text/plain": [
              "<Figure size 432x288 with 1 Axes>"
            ]
          },
          "metadata": {}
        }
      ]
    },
    {
      "cell_type": "code",
      "source": [
        "sns.countplot(x=kmeans.labels_, palette='Oranges')\n",
        "plt.show()"
      ],
      "metadata": {
        "colab": {
          "base_uri": "https://localhost:8080/",
          "height": 268
        },
        "id": "GyDpxMuTpEBr",
        "outputId": "b24961b2-e125-43a9-ada5-d065968dc778"
      },
      "execution_count": 19,
      "outputs": [
        {
          "output_type": "display_data",
          "data": {
            "image/png": "[encoded data removed]",
            "text/plain": [
              "<Figure size 432x288 with 1 Axes>"
            ]
          },
          "metadata": {}
        }
      ]
    },
    {
      "cell_type": "code",
      "source": [
        "y = kmeans.labels_"
      ],
      "metadata": {
        "id": "VTxj36CUs2SE"
      },
      "execution_count": 20,
      "outputs": []
    },
    {
      "cell_type": "code",
      "source": [
        "y"
      ],
      "metadata": {
        "colab": {
          "base_uri": "https://localhost:8080/"
        },
        "id": "Xtq1Ym-frvQ8",
        "outputId": "cb336ccd-20df-4e5d-d8ca-72a52157c3ef"
      },
      "execution_count": 22,
      "outputs": [
        {
          "output_type": "execute_result",
          "data": {
            "text/plain": [
              "array([2, 2, 2, ..., 2, 1, 1], dtype=int32)"
            ]
          },
          "metadata": {},
          "execution_count": 22
        }
      ]
    },
    {
      "cell_type": "code",
      "source": [
        ""
      ],
      "metadata": {
        "id": "pD1nwLwACeRl"
      },
      "execution_count": null,
      "outputs": []
    }
  ]
}